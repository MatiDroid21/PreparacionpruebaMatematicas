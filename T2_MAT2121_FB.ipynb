{
 "cells": [
  {
   "cell_type": "markdown",
   "metadata": {},
   "source": [
    "# La batalla del cifrado: ¿Lineal o polinomial? Descubre el método más rápido para proteger tus datos"
   ]
  },
  {
   "cell_type": "markdown",
   "metadata": {},
   "source": [
    "# Instrucciones\n",
    "\n",
    "1. Lea detenidamente el enunciado y las preguntas.\n",
    "2. Escriba sus desarrollos a continuación de la celda que dice “Desarrollo”.\n",
    "3. Se sugiere usar una celda de texto con el número de la pregunta, una o más celdas de código para el desarrollo y luego una celda de texto para escribir la respuesta."
   ]
  },
  {
   "cell_type": "markdown",
   "metadata": {},
   "source": [
    "# Enunciado"
   ]
  },
  {
   "cell_type": "markdown",
   "metadata": {},
   "source": [
    "La empresa de Ciberseguridad Seguri-net está analizando dos métodos de encriptación para archivos desde $5$ MB hasta $70$ MB. En el primer método, por cada incremento de $2$ MB en el tamaño del archivo, el tiempo de encriptación se incrementa de manera constante en $1,1$ segundos, tal como muestra la tabla (Método A). Mientras que el segundo método (Método B) tiene un tiempo de encriptación, también en segundos, que varía de acuerdo a un modelo cuadrático."
   ]
  },
  {
   "cell_type": "markdown",
   "metadata": {},
   "source": [
    "#### Método A:\n",
    "<center>\n",
    "\n",
    "| Tamaño del archivo (MB) | Tiempo de encriptación (segundos) | \n",
    "|-------------------------|---------------------|\n",
    "|$$7$$                  |$$4,35$$               |\n",
    "|$$13$$                  |$$7,65$$              |\n",
    "|$$22$$                  |$$12,6$$              |\n",
    "|$$40$$                  |$$22,5$$              |\n",
    "|$$60$$                  |$$33,5$$              |\n",
    "\n",
    "</center>"
   ]
  },
  {
   "cell_type": "markdown",
   "metadata": {},
   "source": [
    "#### Método B:\n",
    "\n",
    "\n",
    "$$g(x)=0,01x^2 - 0.09x + 7$$"
   ]
  },
  {
   "cell_type": "markdown",
   "metadata": {},
   "source": [
    "Con ayuda de Python resuelve las siguientes preguntas, considera dos decimales para responder:\n",
    "\n",
    "1. ¿Qué tipo de función permite calcular el tiempo de encriptación si se usa el método A? Justifica tu respuesta. Además, determina la forma algebraica de la función que modela el tiempo de encriptación en función del tamaño del archivo del método A. \n",
    "1. Calcula el tiempo de encriptación para ambos métodos cuando el tamaño del archivo es $56$ MB. ¿Cuál método empleó menos tiempo?\n",
    "3. ¿Para qué tamaño(s) de archivo el tiempo de encriptación es el mismo en ambos métodos? ¿Cuál es el tiempo de encriptación?\n",
    "1. En términos de tiempo, ¿para qué tamaño de archivos es más conveniente el método B?"
   ]
  },
  {
   "cell_type": "markdown",
   "metadata": {},
   "source": [
    "# Desarrollo"
   ]
  },
  {
   "cell_type": "markdown",
   "metadata": {},
   "source": [
    "1) \n",
    "**Variable dependiente:** Tiempo de ejecución (segundos)\n",
    "\n",
    "**Variable independiente:** Tamaño de la entrada (unidadesMB)"
   ]
  },
  {
   "cell_type": "code",
   "execution_count": 6,
   "metadata": {},
   "outputs": [
    {
     "name": "stdout",
     "output_type": "stream",
     "text": [
      "La pendiente de la función es 0.55 y el intercepto es 0.50.\n"
     ]
    }
   ],
   "source": [
    "import numpy as np\n",
    "\n",
    "cantidad = np.array([7, 13, 22, 40, 60])\n",
    "tiempo = np.array([4.35, 7.65, 12.6, 22.5, 33.5])\n",
    "\n",
    "pendiente, intercepto = np.polyfit(cantidad, tiempo, 1)\n",
    "\n",
    "print(f'La pendiente de la función es {pendiente:.2f} y el intercepto es {intercepto:.2f}.')\n",
    "\n",
    "def m(x):\n",
    "    return x*0.55+0.5"
   ]
  },
  {
   "cell_type": "markdown",
   "metadata": {},
   "source": [
    "la funcion que modela el metodo A es:\n",
    "\n",
    "m(x) = x*0.55+0.50\n",
    "\n",
    "y es de tipo lineal"
   ]
  },
  {
   "cell_type": "markdown",
   "metadata": {},
   "source": [
    "2.- Encriptación cuando el tamaño de archivo es de 56 MB"
   ]
  },
  {
   "cell_type": "code",
   "execution_count": 7,
   "metadata": {},
   "outputs": [
    {
     "name": "stdout",
     "output_type": "stream",
     "text": [
      "El tamaño de encriptacion cuando el archivo es de 56 MB en la primera funcion es de 31.30\n",
      "El tamaño de encriptacion cuando el archivo es de 56 MB en la segunda funcion es de 33.32\n"
     ]
    }
   ],
   "source": [
    "import numpy as np\n",
    "\n",
    "def m(x):\n",
    "    return x*0.55+0.5\n",
    "\n",
    "def g(x):\n",
    "    return 0.01*x**2 - 0.09*x + 7\n",
    "\n",
    "\n",
    "print(f'El tamaño de encriptacion cuando el archivo es de 56 MB en la primera funcion es de {m(56):.2f}')\n",
    "print(f'El tamaño de encriptacion cuando el archivo es de 56 MB en la segunda funcion es de {g(56):.2f}')\n",
    "\n",
    "\n"
   ]
  },
  {
   "cell_type": "markdown",
   "metadata": {},
   "source": [
    "El metodo que empleo menos tiempo fue el A con 31.30 segundos"
   ]
  },
  {
   "cell_type": "markdown",
   "metadata": {},
   "source": [
    "3)"
   ]
  },
  {
   "cell_type": "code",
   "execution_count": 8,
   "metadata": {},
   "outputs": [
    {
     "name": "stdout",
     "output_type": "stream",
     "text": [
      "Intersecta en los siguientes puntos x = [12.7 51.3].\n",
      "Cuando la cantidad es 12.7 MB y de 51.30 MB los tiempos son iguales.\n",
      "El tiempo de encriptación correspondiente es 7.49 y 28.70\n"
     ]
    }
   ],
   "source": [
    "import numpy as np\n",
    "from scipy.optimize import fsolve\n",
    "\n",
    "\n",
    "#Definiendo la función igualada a cero\n",
    "def interseccion(x):\n",
    "  return m(x) - g(x)\n",
    "\n",
    "x = np.linspace(0, 200, 5)\n",
    "solucion = np.around(fsolve(interseccion, x), decimals = 1)\n",
    "\n",
    "inter = np.unique(solucion)\n",
    "\n",
    "print(f'Intersecta en los siguientes puntos x = {inter}.')\n",
    "print(f'Cuando la cantidad es {inter[0]} MB y de {(inter[1]):.2f} MB los tiempos son iguales.')\n",
    "print(f\"El tiempo de encriptación correspondiente es {m(12.7):.2f} y {g(51.3):.2f}\")"
   ]
  },
  {
   "cell_type": "code",
   "execution_count": 25,
   "metadata": {},
   "outputs": [
    {
     "data": {
      "image/png": "[encoded data removed]",
      "text/plain": [
       "<Figure size 640x480 with 1 Axes>"
      ]
     },
     "metadata": {},
     "output_type": "display_data"
    }
   ],
   "source": [
    "import matplotlib.pyplot as plt\n",
    "import numpy as np\n",
    "\n",
    "\n",
    "x = np.arange(0.1, 200, 1)\n",
    "\n",
    "plt.plot(x, m(x), color = 'g', label = 'm(x) metoda A')\n",
    "plt.plot(x, g(x), color = 'r', label = 'g(x) metodo B')\n",
    "plt.ylim(0, 70)\n",
    "plt.xlim(0, 60)\n",
    "\n",
    "plt.title('Relacion entre las funciones m(x) y g(x)')\n",
    "plt.xlabel('Tiempo transcurrido (segundos)')\n",
    "plt.ylabel('Tamaño (MB)')\n",
    "\n",
    "plt.grid(True)\n",
    "plt.legend()\n",
    "plt.show()"
   ]
  },
  {
   "cell_type": "markdown",
   "metadata": {},
   "source": [
    "Intersecta en los siguientes puntos x = [12.7 51.3].\n",
    "\n",
    "Cuanto la cantidad es 12.7 MB y de 51.30 MB los tiempos son iguales.\n",
    "El tiempo de encriptación correspondiente es 7.49 y 28.70"
   ]
  },
  {
   "cell_type": "markdown",
   "metadata": {},
   "source": [
    "4)\n",
    "\n",
    "Entre los puntos x1 = 12.7 y x2 = 51.3 \n",
    "\n",
    "Por lo tanto entre los tamaños 12.7 y 51.3 MB el metodo B es mas conveniente en cuanto a tiempo"
   ]
  }
 ],
 "metadata": {
  "kernelspec": {
   "display_name": "Python 3",
   "language": "python",
   "name": "python3"
  },
  "language_info": {
   "codemirror_mode": {
    "name": "ipython",
    "version": 3
   },
   "file_extension": ".py",
   "mimetype": "text/x-python",
   "name": "python",
   "nbconvert_exporter": "python",
   "pygments_lexer": "ipython3",
   "version": "3.11.4"
  }
 },
 "nbformat": 4,
 "nbformat_minor": 2
}
